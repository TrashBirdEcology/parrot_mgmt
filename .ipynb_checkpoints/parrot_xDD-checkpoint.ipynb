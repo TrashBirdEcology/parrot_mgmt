{
 "cells": [
  {
   "cell_type": "code",
   "execution_count": 1,
   "metadata": {},
   "outputs": [],
   "source": [
    "import json \n",
    "import requests"
   ]
  },
  {
   "cell_type": "code",
   "execution_count": 2,
   "metadata": {},
   "outputs": [],
   "source": [
    "\n",
    "def xdd_api(route, params):\n",
    "    \"\"\"Create list of docs mentioning a term of interest\n",
    "    Parameters : see https://geodeepdive.org/api for more detail\n",
    "    ----------\n",
    "    routes : str of available api routes for xDD \n",
    "    params : str of key value pairs of paramaters:values separated by &\n",
    "    \"\"\"\n",
    "    url = 'https://geodeepdive.org/api'\n",
    "    search = (url + '/' + route + '?' + str(params))\n",
    "    all_data = []\n",
    "    print (search)\n",
    "    try:\n",
    "        while search != '':\n",
    "            r=requests.get(search)\n",
    "            if r.status_code == 200 and 'success' in r.json():\n",
    "                json_r = r.json()\n",
    "                data = json_r['success']['data']\n",
    "                search = json_r['success']['next_page']\n",
    "                hits = json_r['success']['hits']\n",
    "                for i in data:\n",
    "                    all_data.append(i)\n",
    "            else:\n",
    "                raise Exception('xDD API returning: {}'.format(r.status_code))\n",
    "            \n",
    "    except Exception as e:\n",
    "        raise Exception(e)\n",
    "        \n",
    "    return all_data, hits\n"
   ]
  },
  {
   "cell_type": "code",
   "execution_count": 3,
   "metadata": {},
   "outputs": [
    {
     "name": "stdout",
     "output_type": "stream",
     "text": [
      "https://geodeepdive.org/api/snippets?term=\"parrot+management\"&clean&full_results\n",
      "https://geodeepdive.org/api/snippets?term=parrot+management&clean&full_results\n",
      "https://geodeepdive.org/api/snippets?term=\"parakeet+management\"&clean&full_results\n",
      "https://geodeepdive.org/api/snippets?term=parakeet+management&clean&full_results\n",
      "https://geodeepdive.org/api/snippets?term=\"management+of+parrot\"&clean&full_results\n",
      "https://geodeepdive.org/api/snippets?term=management+of+parakeet&clean&full_results\n",
      "https://geodeepdive.org/api/snippets?term=parrot+control&clean&full_results\n",
      "https://geodeepdive.org/api/snippets?term=parakeet+control&clean&full_results\n",
      "https://geodeepdive.org/api/snippets?term=\"control+for+parrot\"&clean&full_results\n",
      "https://geodeepdive.org/api/snippets?term=\"control+for+parakeet\"&clean&full_results\n",
      "https://geodeepdive.org/api/snippets?term=parrot+eradication&clean&full_results\n",
      "https://geodeepdive.org/api/snippets?term=parakeet+eradication&clean&full_results\n",
      "https://geodeepdive.org/api/snippets?term=&clean&full_results\n"
     ]
    },
    {
     "ename": "Exception",
     "evalue": "xDD API returning: 404",
     "output_type": "error",
     "traceback": [
      "\u001b[0;31m---------------------------------------------------------------------------\u001b[0m",
      "\u001b[0;31mException\u001b[0m                                 Traceback (most recent call last)",
      "\u001b[0;32m<ipython-input-2-660d54ffeef2>\u001b[0m in \u001b[0;36mxdd_api\u001b[0;34m(route, params)\u001b[0m\n\u001b[1;32m     22\u001b[0m             \u001b[0;32melse\u001b[0m\u001b[0;34m:\u001b[0m\u001b[0;34m\u001b[0m\u001b[0;34m\u001b[0m\u001b[0m\n\u001b[0;32m---> 23\u001b[0;31m                 \u001b[0;32mraise\u001b[0m \u001b[0mException\u001b[0m\u001b[0;34m(\u001b[0m\u001b[0;34m'xDD API returning: {}'\u001b[0m\u001b[0;34m.\u001b[0m\u001b[0mformat\u001b[0m\u001b[0;34m(\u001b[0m\u001b[0mr\u001b[0m\u001b[0;34m.\u001b[0m\u001b[0mstatus_code\u001b[0m\u001b[0;34m)\u001b[0m\u001b[0;34m)\u001b[0m\u001b[0;34m\u001b[0m\u001b[0;34m\u001b[0m\u001b[0m\n\u001b[0m\u001b[1;32m     24\u001b[0m \u001b[0;34m\u001b[0m\u001b[0m\n",
      "\u001b[0;31mException\u001b[0m: xDD API returning: 404",
      "\nDuring handling of the above exception, another exception occurred:\n",
      "\u001b[0;31mException\u001b[0m                                 Traceback (most recent call last)",
      "\u001b[0;32m<ipython-input-3-f6e2f0d82366>\u001b[0m in \u001b[0;36m<module>\u001b[0;34m\u001b[0m\n\u001b[1;32m     40\u001b[0m \u001b[0;34m\u001b[0m\u001b[0m\n\u001b[1;32m     41\u001b[0m     \u001b[0;31m#Search xDD results (detailed results per article) and hits = total # articles with mentions\u001b[0m\u001b[0;34m\u001b[0m\u001b[0;34m\u001b[0m\u001b[0;34m\u001b[0m\u001b[0m\n\u001b[0;32m---> 42\u001b[0;31m     \u001b[0mresults\u001b[0m\u001b[0;34m,\u001b[0m \u001b[0mhits\u001b[0m \u001b[0;34m=\u001b[0m \u001b[0mxdd_api\u001b[0m\u001b[0;34m(\u001b[0m\u001b[0mroute\u001b[0m\u001b[0;34m,\u001b[0m \u001b[0mparams\u001b[0m\u001b[0;34m)\u001b[0m\u001b[0;34m\u001b[0m\u001b[0;34m\u001b[0m\u001b[0m\n\u001b[0m\u001b[1;32m     43\u001b[0m \u001b[0;34m\u001b[0m\u001b[0m\n\u001b[1;32m     44\u001b[0m     \u001b[0;32mwith\u001b[0m \u001b[0mopen\u001b[0m\u001b[0;34m(\u001b[0m\u001b[0;34m'xdd_json/'\u001b[0m \u001b[0;34m+\u001b[0m \u001b[0mi\u001b[0m \u001b[0;34m+\u001b[0m \u001b[0;34m'.txt'\u001b[0m\u001b[0;34m,\u001b[0m \u001b[0;34m'w'\u001b[0m\u001b[0;34m)\u001b[0m \u001b[0;32mas\u001b[0m \u001b[0moutfile\u001b[0m\u001b[0;34m:\u001b[0m\u001b[0;34m\u001b[0m\u001b[0;34m\u001b[0m\u001b[0m\n",
      "\u001b[0;32m<ipython-input-2-660d54ffeef2>\u001b[0m in \u001b[0;36mxdd_api\u001b[0;34m(route, params)\u001b[0m\n\u001b[1;32m     24\u001b[0m \u001b[0;34m\u001b[0m\u001b[0m\n\u001b[1;32m     25\u001b[0m     \u001b[0;32mexcept\u001b[0m \u001b[0mException\u001b[0m \u001b[0;32mas\u001b[0m \u001b[0me\u001b[0m\u001b[0;34m:\u001b[0m\u001b[0;34m\u001b[0m\u001b[0;34m\u001b[0m\u001b[0m\n\u001b[0;32m---> 26\u001b[0;31m         \u001b[0;32mraise\u001b[0m \u001b[0mException\u001b[0m\u001b[0;34m(\u001b[0m\u001b[0me\u001b[0m\u001b[0;34m)\u001b[0m\u001b[0;34m\u001b[0m\u001b[0;34m\u001b[0m\u001b[0m\n\u001b[0m\u001b[1;32m     27\u001b[0m \u001b[0;34m\u001b[0m\u001b[0m\n\u001b[1;32m     28\u001b[0m     \u001b[0;32mreturn\u001b[0m \u001b[0mall_data\u001b[0m\u001b[0;34m,\u001b[0m \u001b[0mhits\u001b[0m\u001b[0;34m\u001b[0m\u001b[0;34m\u001b[0m\u001b[0m\n",
      "\u001b[0;31mException\u001b[0m: xDD API returning: 404"
     ]
    }
   ],
   "source": [
    "#Specify API route and parameters needed for search\n",
    "\n",
    "route = 'snippets'\n",
    "\n",
    "#Set a term or loop through terms #this isn't doing exact phrase properly..\n",
    "terms = ['\"parrot+management\"',\n",
    "         'parrot+management', \n",
    "         '\"parakeet+management\"',\n",
    "         'parakeet+management', \n",
    "         #'\"psittacid+management\"', # no results...\n",
    "         #'psittacid+management', # no results...\n",
    "         '\"management+of+parrot\"', \n",
    "         'management+of+parakeet',\n",
    "         #'\"management+of+psittacid\"', # no results...\n",
    "         #'\"managing+parrot\"' , # one medical result (parrot bites :D)...\n",
    "         #'\"managing+psittacid\"', # no results... \n",
    "         #'culling+parrot', # no results...\n",
    "         #'parrot+cull', # no results...\n",
    "         'parrot+control', \n",
    "         'parakeet+control',\n",
    "         '\"control+for+parrot\"',\n",
    "         '\"control+for+parakeet\"',\n",
    "         'parrot+eradication',\n",
    "         'parakeet+eradication'\n",
    "         #'parrot*cull',# no results...\n",
    "         # '\"cull+of+parrot\"', # no results...\n",
    "         # spanish/portugeuse terms\n",
    "         #'conflicto*loros',  # no results...\n",
    "         #'manejo+de+loros',  # no results...\n",
    "         #'manejo+de+parabas',  # no results...\n",
    "         #'cultivos*loros',  # no results...\n",
    "         #'loros*plaga' # no results...\n",
    "                  ]\n",
    "\n",
    "\n",
    "for i in terms:\n",
    "    #List of available parameters and examples : 'https://geodeepdive.org/api/snippets'\n",
    "    params = 'term=' + i + '&clean&full_results'\n",
    "\n",
    "    #Search xDD results (detailed results per article) and hits = total # articles with mentions\n",
    "    results, hits = xdd_api(route, params)\n",
    "    \n",
    "    with open('xdd_json/' + i + '.txt', 'w') as outfile:\n",
    "        json.dump(results, outfile)\n",
    "    "
   ]
  },
  {
   "cell_type": "code",
   "execution_count": null,
   "metadata": {},
   "outputs": [],
   "source": []
  },
  {
   "cell_type": "code",
   "execution_count": null,
   "metadata": {},
   "outputs": [],
   "source": []
  },
  {
   "cell_type": "code",
   "execution_count": null,
   "metadata": {},
   "outputs": [],
   "source": []
  },
  {
   "cell_type": "code",
   "execution_count": null,
   "metadata": {},
   "outputs": [],
   "source": []
  }
 ],
 "metadata": {
  "kernelspec": {
   "display_name": "Python 3",
   "language": "python",
   "name": "python3"
  },
  "language_info": {
   "codemirror_mode": {
    "name": "ipython",
    "version": 3
   },
   "file_extension": ".py",
   "mimetype": "text/x-python",
   "name": "python",
   "nbconvert_exporter": "python",
   "pygments_lexer": "ipython3",
   "version": "3.7.4"
  }
 },
 "nbformat": 4,
 "nbformat_minor": 2
}
